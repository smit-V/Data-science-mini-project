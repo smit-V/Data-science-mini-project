{
 "cells": [
  {
   "cell_type": "markdown",
   "id": "9a945ad1-1037-4900-a307-2b18bc7c5bb9",
   "metadata": {},
   "source": [
    "\n",
    "#### Name : Smit Sachin Vhora\n",
    "### Roll No : 2337010\n",
    "### Batch : A"
   ]
  },
  {
   "cell_type": "code",
   "execution_count": null,
   "id": "4b33d1b4-20f3-49e5-bb19-3abd30994757",
   "metadata": {},
   "outputs": [],
   "source": [
    "import pandas as pd\n",
    "import numpy as np\n",
    "from sklearn.feature_extraction.text import CountVectorizer\n",
    "from sklearn.feature_extraction.text import TfidfVectorizer\n",
    "from sklearn.model_selection import train_test_split\n",
    "from sklearn.ensemble import RandomForestClassifier\n",
    "\n",
    "df = pd.read_csv('data.csv')\n",
    "data=df[['password','strength']]"
   ]
  },
  {
   "cell_type": "code",
   "execution_count": 3,
   "id": "af414258-1853-40cf-9996-03dcedd9e756",
   "metadata": {},
   "outputs": [
    {
     "data": {
      "text/html": [
       "<div>\n",
       "<style scoped>\n",
       "    .dataframe tbody tr th:only-of-type {\n",
       "        vertical-align: middle;\n",
       "    }\n",
       "\n",
       "    .dataframe tbody tr th {\n",
       "        vertical-align: top;\n",
       "    }\n",
       "\n",
       "    .dataframe thead th {\n",
       "        text-align: right;\n",
       "    }\n",
       "</style>\n",
       "<table border=\"1\" class=\"dataframe\">\n",
       "  <thead>\n",
       "    <tr style=\"text-align: right;\">\n",
       "      <th></th>\n",
       "      <th>password</th>\n",
       "      <th>strength</th>\n",
       "    </tr>\n",
       "  </thead>\n",
       "  <tbody>\n",
       "    <tr>\n",
       "      <th>0</th>\n",
       "      <td>kzde5577</td>\n",
       "      <td>1</td>\n",
       "    </tr>\n",
       "    <tr>\n",
       "      <th>1</th>\n",
       "      <td>kino3434</td>\n",
       "      <td>1</td>\n",
       "    </tr>\n",
       "    <tr>\n",
       "      <th>2</th>\n",
       "      <td>visi7k1yr</td>\n",
       "      <td>1</td>\n",
       "    </tr>\n",
       "    <tr>\n",
       "      <th>3</th>\n",
       "      <td>megzy123</td>\n",
       "      <td>1</td>\n",
       "    </tr>\n",
       "    <tr>\n",
       "      <th>4</th>\n",
       "      <td>lamborghin1</td>\n",
       "      <td>1</td>\n",
       "    </tr>\n",
       "    <tr>\n",
       "      <th>...</th>\n",
       "      <td>...</td>\n",
       "      <td>...</td>\n",
       "    </tr>\n",
       "    <tr>\n",
       "      <th>669872</th>\n",
       "      <td>10redtux10</td>\n",
       "      <td>1</td>\n",
       "    </tr>\n",
       "    <tr>\n",
       "      <th>669873</th>\n",
       "      <td>infrared1</td>\n",
       "      <td>1</td>\n",
       "    </tr>\n",
       "    <tr>\n",
       "      <th>669874</th>\n",
       "      <td>184520socram</td>\n",
       "      <td>1</td>\n",
       "    </tr>\n",
       "    <tr>\n",
       "      <th>669875</th>\n",
       "      <td>marken22a</td>\n",
       "      <td>1</td>\n",
       "    </tr>\n",
       "    <tr>\n",
       "      <th>669876</th>\n",
       "      <td>fxx4pw4g</td>\n",
       "      <td>1</td>\n",
       "    </tr>\n",
       "  </tbody>\n",
       "</table>\n",
       "<p>669877 rows × 2 columns</p>\n",
       "</div>"
      ],
      "text/plain": [
       "            password strength\n",
       "0           kzde5577        1\n",
       "1           kino3434        1\n",
       "2          visi7k1yr        1\n",
       "3           megzy123        1\n",
       "4        lamborghin1        1\n",
       "...              ...      ...\n",
       "669872    10redtux10        1\n",
       "669873     infrared1        1\n",
       "669874  184520socram        1\n",
       "669875     marken22a        1\n",
       "669876      fxx4pw4g        1\n",
       "\n",
       "[669877 rows x 2 columns]"
      ]
     },
     "execution_count": 3,
     "metadata": {},
     "output_type": "execute_result"
    }
   ],
   "source": [
    "data"
   ]
  },
  {
   "cell_type": "code",
   "execution_count": 4,
   "id": "97031081-ab1c-441f-9fff-1f2b586b1193",
   "metadata": {},
   "outputs": [
    {
     "data": {
      "text/plain": [
       "array(['1', '2', '0', 'selim_syl1905@hotmail.com',\n",
       "       'delioreanxs@hotmail.com', 'mt2gurur@hotmail.com',\n",
       "       'facebookselim4@hotmail.com', 'anakonda_252@hotmail.com',\n",
       "       'mamedov.kenan@mail.ru', 'destek@migmedya.com',\n",
       "       'elitebank44@gmail.com', 'memleketim.info@gmail.com',\n",
       "       'canersastim@gmail.com', 'arifselim.ask@gmail.com',\n",
       "       'octoberwind@mynet.com', 'sado_370@hotmail.com',\n",
       "       'djexploit@gmail.com', 'bursabursa2@hotmail.com',\n",
       "       'info@kayimoglu.com', 'drselimcelik@gmail.com',\n",
       "       'bykudelfa@hotmail.com', 'kralkotsk@mynet.com',\n",
       "       'mnyk12@hotmail.com', 'elitebilgisayar26@gmail.com',\n",
       "       'elumre@gmail.com', 'selim.ozmen07@hotmail.com',\n",
       "       'selimkaratas@windowslive.com', 'crazy_boeing@yahoo.com',\n",
       "       'imkbticaretmeslek@gmail.com', 'mrcds.grmnt@yahoo.com',\n",
       "       'mert_kaya09@hotmail.com', 'beratmisimi1@gmail.com',\n",
       "       'cousto@live.com', 'boystreet04@gmail.com',\n",
       "       'hackerbbqueen15@hotmail.com', 'brkyc3@hotmail.com',\n",
       "       'bursa322@hotmail.com', 'selimcebecioglu@gmail.com',\n",
       "       'ooyrwdiovouxa@hotmail.com', 'antit0xin@hotmail.com',\n",
       "       'kaderimse.net@hotmail.com', 'cnraktas@hotmail.com',\n",
       "       'kerem_3435@hotmail.com', 'selim2@live.nl',\n",
       "       'selimakyol000@hotmail.com', 'selimiu14@gmail.com',\n",
       "       'selimest1@yahoo.fr', 'sd66@live.com', 'bykudelfa@windowslive.com',\n",
       "       'mogol_1994@hotmail.com', 'ayakseven@gmail.com',\n",
       "       'selimiii91@googlemail.com', 'asassa.asdsadsads@mail.ru',\n",
       "       'byscg@live.com', 'igoubane@gmail.com', 'kudigaf-59@hotmail.com',\n",
       "       'okanfidan.5@hotmail.com', 'cs.bossy@hotmail.com',\n",
       "       'gavur55@gmail.com', 'ckrguzel61@hotmail.com',\n",
       "       'emre_talha_erim@hotmail.com', 'fatal09@live.de',\n",
       "       'selim93dz@gmail.com', 'aspiranko@gmail.com',\n",
       "       'manisagfb@windowslive.com', 'freezoneworld@gmail.com',\n",
       "       'dakikaoyun1@hotmail.com', 'aselimulkatan@windowslive.com',\n",
       "       'platonik.ask1@hotmail.com.tr', 'bio-nick@hotmail.com',\n",
       "       'samyeli25@mynet.com', 'selim.samli1@hotmail.com.tr',\n",
       "       'kuyucu_selim@hotmail.com', 'mesajticaret@hotmail.com',\n",
       "       'cristiano_juega_10@hotmail.com', 'auetetee@narod.ru',\n",
       "       'haylaz_1453@hotmail.com', 'selim_tek1@hotmail.com',\n",
       "       'kralaidcop@gmail.com', 'melchazli@gmail.com',\n",
       "       'metaren@yandex.com', 'axiselo@hotmail.com',\n",
       "       'jakuzen.57@hotmail.com', 'by.social@hotmail.com',\n",
       "       'selimjel@icloud.com', 'escortcu34@gmail.com',\n",
       "       'iletisim@selimaltin.com', 'demir_06_68@hotmail.com',\n",
       "       'bychatlak_66@hotmail.com', 'selim1@live.be',\n",
       "       'dyinglast@outlook.com', 'korhaydut_38@hotmail.com',\n",
       "       'mt2_shorty@hotmail.com', 'bykudelfa2@hotmail.com',\n",
       "       'contemp99@gmail.com', 'mehmeteminyakit@tnctr.com',\n",
       "       'sakaryam5454@yandex.com.tr', 'boskartus@hotmail.com',\n",
       "       'dumanselim52@gmail.com', 'selimmsn@msn.com',\n",
       "       'derko_42@hotmail.com', 'selimb300@gmail.com',\n",
       "       'selimakyuz@gmail.com', 'selimaliqkaj5@gmail.com',\n",
       "       'karsidag@hotmail.com', 'cellymmm@hotmail.com', 'selim199@abv.bg',\n",
       "       'brain_storm_92@hotmail.com', 'groteselim@msn.com',\n",
       "       'avci.selim@gmail.com', 'genc_fb.56@hotmail.com',\n",
       "       'gencosman_2006@hotmail.com', 'hackershift@gmail.com',\n",
       "       'begum_akdogan_33@hotmail.com', 'eskortcu@hotmail.com',\n",
       "       'selim.chergui@hotmail.com', 'odmosegtnss@ovi.com',\n",
       "       'alpha_omeg@rocketmail.com', 'derdan0707@gmail.com',\n",
       "       's.selimerdem@hotmail.com', 'atac.selim@gmail.com',\n",
       "       'keepifreal@hotmail.com', 'deren8120012@hotmail.com',\n",
       "       'iletisim@oderece.net', 'carizma_cocuk1987@hotmail.com',\n",
       "       'bursabursa123321@hotmail.com', 'remselim@gmail.com',\n",
       "       'dummandumman@hotmail.com', 'ezgikutlu_06@hotmail.com',\n",
       "       'sahinemlak59@gmail.com', 'selim_cz@hotmail.com',\n",
       "       'selimkirazliogli@hotmail.com', 'csprosunucum@hotmail.com',\n",
       "       'lostlover662@gmail.com', 'my.dimpls@hotmail.com',\n",
       "       'kikushi@live.com', 'hi.selimreza@gmail.com',\n",
       "       'psiko_child@hotmail.com', 'limmy007@live.com',\n",
       "       'kalkal223@hotmail.com', 'sametselim44@gmail.com',\n",
       "       'sel34443@gmail.com', 'durdedimulen@hotmail.com',\n",
       "       'hackershift@live.com', 'komofti34@gmail.com',\n",
       "       'by_firari_019@hotmail.com', 'johirali08@gmail.com',\n",
       "       'real_crayz@hotmail.com', 'buzzy_speaker@hotmail.com',\n",
       "       'ice.nova@hotmail.com', 'karaselim.colakoglu@gmail.com',\n",
       "       'gs_li_selo@hotmail.com', 'selimgabsi@yahoo.fr',\n",
       "       'free.gta5@gmail.com', 'selimgs@mynet.com', 'bursa223@hotmail.com',\n",
       "       'ftp42@gmx.net', 'hayat.yalan.beimgibi@hotmail.com',\n",
       "       'selim.cancan1@hotmail.com', 'basogluselim@yahoo.com',\n",
       "       'contempt99@gmail.com', 'expro_sc@hotmail.com',\n",
       "       'selimdamar63@gmail.com', 'developpeurwebsite@gmail.com',\n",
       "       'selim.samli038@hotmail.com', 'kaankarayel_2012@hotmail.com',\n",
       "       'redcap12@yahoo.com', 'faceboookinfo@gmail.com', 'fatal08@live.de',\n",
       "       'demente_selim@hotmail.com', 's.k11@laposte.net',\n",
       "       'selimcebesoy@gmail.com', 'selimkoylahisarli@live.com',\n",
       "       'selimkahya@gmail.com', 'byensel01@hotmail.com',\n",
       "       'kanli007@hotmail.com', 'enucuzdugun@hotmail.fr',\n",
       "       'beylikovajumla@mynet.com', 'faakeadres123@hotmail.com',\n",
       "       'andarmastana@gmail.com', 'frozen2245@gmail.com',\n",
       "       'selim_samli1@hotmail.com', 'facebookselim1@hotmail.com',\n",
       "       'mimou_939@hotmail.fr', 'elyomeric@hotmail.com',\n",
       "       'facebookselim2@hotmail.com', 'haylaz_1997@hotmail.com',\n",
       "       'selim07_fenerium@hotmail.com', 'korganradyo@hotmail.com',\n",
       "       'selim880@rambler.ru', 'mhpboy@hotmail.com', 'byselm34@gmail.com',\n",
       "       'kutlu514@hotmail.com', 'gamesliga@hotmail.com',\n",
       "       'janssensselim@gmail.com', 'benimsitem@yahoo.com',\n",
       "       'esesanahtar@hotmail.com', 'ikikeredusun@gmail.com',\n",
       "       'metin2pvp69@hotmail.com', 'kartallimt2@hotmail.com',\n",
       "       'evinkirosu@hotmail.com', 'besiktaskim@hotmail.com',\n",
       "       'cybervadi@hotmail.co.uk', 'selim_sarikaya42@hotmail.com',\n",
       "       'firar50@hotmail.com', 'cengiz_metin35@hotmail.com',\n",
       "       'balik_muhammedali665@hotmail.com', 'codeslm.dark@yahoo.com',\n",
       "       'anime.evi@hotmail.com', 'kartanesi.selim@gmail.com',\n",
       "       'eskisehirsite@mynet.com', 'bilgisayarbilisimonline@mynet.com',\n",
       "       'antifb@gmail.com', 'barborosselim@gmail.com',\n",
       "       'selimkuyucu1@hotmail.com', 'ibrahimsakhta1@gmail.com',\n",
       "       'selimdg@hotmail.com', 'selimerdogan29@gmail.com',\n",
       "       'hasel_4458@hotmail.com', 'black_line63@hotmail.com',\n",
       "       'delibeyazim_18@hotmail.com', 'armin_lokvancic@hotmail.com',\n",
       "       'selimmsenturkk@hotmail.com', 'hacsel.erdem@gmail.com',\n",
       "       'dj_gezegen_90@hotmail.com', 'msinan2008@hotmail.de',\n",
       "       'selim_sari@hotmail.com', 'karamsar_87@yahoo.com',\n",
       "       'seckinsitesi@mynet.com', 'kralrock@msn.com',\n",
       "       'pokemon924@live.com', 'selim_mir@hotmail.com',\n",
       "       'bgselim1993@gmail.com', 'info@live35.net',\n",
       "       'cimbom_cadde@hotmail.com', 'hajriz.balkansunflowers@gmail.com',\n",
       "       'f4rr3ll26@gmail.com'], dtype=object)"
      ]
     },
     "execution_count": 4,
     "metadata": {},
     "output_type": "execute_result"
    }
   ],
   "source": [
    "data['strength'].unique()"
   ]
  },
  {
   "cell_type": "code",
   "execution_count": 5,
   "id": "7df9b22d-35b0-4a6c-a7fc-542fc5921059",
   "metadata": {},
   "outputs": [],
   "source": [
    "allowed_values = ['1', '0', '2']\n",
    "df1 = df[df['strength'].isin(allowed_values)]"
   ]
  },
  {
   "cell_type": "code",
   "execution_count": 6,
   "id": "c9869a07-1ccb-44a8-8157-eed5493e68e3",
   "metadata": {},
   "outputs": [],
   "source": [
    "df = df1.drop(columns=['Unnamed: 2'])"
   ]
  },
  {
   "cell_type": "code",
   "execution_count": 7,
   "id": "dc71c1ee-ecdc-4201-94f7-b85a4feb5e4a",
   "metadata": {},
   "outputs": [
    {
     "data": {
      "text/html": [
       "<div>\n",
       "<style scoped>\n",
       "    .dataframe tbody tr th:only-of-type {\n",
       "        vertical-align: middle;\n",
       "    }\n",
       "\n",
       "    .dataframe tbody tr th {\n",
       "        vertical-align: top;\n",
       "    }\n",
       "\n",
       "    .dataframe thead th {\n",
       "        text-align: right;\n",
       "    }\n",
       "</style>\n",
       "<table border=\"1\" class=\"dataframe\">\n",
       "  <thead>\n",
       "    <tr style=\"text-align: right;\">\n",
       "      <th></th>\n",
       "      <th>password</th>\n",
       "      <th>strength</th>\n",
       "    </tr>\n",
       "  </thead>\n",
       "  <tbody>\n",
       "    <tr>\n",
       "      <th>0</th>\n",
       "      <td>kzde5577</td>\n",
       "      <td>1</td>\n",
       "    </tr>\n",
       "    <tr>\n",
       "      <th>1</th>\n",
       "      <td>kino3434</td>\n",
       "      <td>1</td>\n",
       "    </tr>\n",
       "    <tr>\n",
       "      <th>2</th>\n",
       "      <td>visi7k1yr</td>\n",
       "      <td>1</td>\n",
       "    </tr>\n",
       "    <tr>\n",
       "      <th>3</th>\n",
       "      <td>megzy123</td>\n",
       "      <td>1</td>\n",
       "    </tr>\n",
       "    <tr>\n",
       "      <th>4</th>\n",
       "      <td>lamborghin1</td>\n",
       "      <td>1</td>\n",
       "    </tr>\n",
       "    <tr>\n",
       "      <th>...</th>\n",
       "      <td>...</td>\n",
       "      <td>...</td>\n",
       "    </tr>\n",
       "    <tr>\n",
       "      <th>669872</th>\n",
       "      <td>10redtux10</td>\n",
       "      <td>1</td>\n",
       "    </tr>\n",
       "    <tr>\n",
       "      <th>669873</th>\n",
       "      <td>infrared1</td>\n",
       "      <td>1</td>\n",
       "    </tr>\n",
       "    <tr>\n",
       "      <th>669874</th>\n",
       "      <td>184520socram</td>\n",
       "      <td>1</td>\n",
       "    </tr>\n",
       "    <tr>\n",
       "      <th>669875</th>\n",
       "      <td>marken22a</td>\n",
       "      <td>1</td>\n",
       "    </tr>\n",
       "    <tr>\n",
       "      <th>669876</th>\n",
       "      <td>fxx4pw4g</td>\n",
       "      <td>1</td>\n",
       "    </tr>\n",
       "  </tbody>\n",
       "</table>\n",
       "<p>669640 rows × 2 columns</p>\n",
       "</div>"
      ],
      "text/plain": [
       "            password strength\n",
       "0           kzde5577        1\n",
       "1           kino3434        1\n",
       "2          visi7k1yr        1\n",
       "3           megzy123        1\n",
       "4        lamborghin1        1\n",
       "...              ...      ...\n",
       "669872    10redtux10        1\n",
       "669873     infrared1        1\n",
       "669874  184520socram        1\n",
       "669875     marken22a        1\n",
       "669876      fxx4pw4g        1\n",
       "\n",
       "[669640 rows x 2 columns]"
      ]
     },
     "execution_count": 7,
     "metadata": {},
     "output_type": "execute_result"
    }
   ],
   "source": [
    "df"
   ]
  },
  {
   "cell_type": "code",
   "execution_count": 8,
   "id": "b99a1a86-e837-481d-afcf-96ed4f0b3b56",
   "metadata": {},
   "outputs": [
    {
     "data": {
      "text/plain": [
       "password    1\n",
       "strength    0\n",
       "dtype: int64"
      ]
     },
     "execution_count": 8,
     "metadata": {},
     "output_type": "execute_result"
    }
   ],
   "source": [
    "df.isnull().sum()"
   ]
  },
  {
   "cell_type": "code",
   "execution_count": 9,
   "id": "6679af07-d77f-4669-b498-c7b8f24c1adb",
   "metadata": {},
   "outputs": [
    {
     "data": {
      "text/html": [
       "<div>\n",
       "<style scoped>\n",
       "    .dataframe tbody tr th:only-of-type {\n",
       "        vertical-align: middle;\n",
       "    }\n",
       "\n",
       "    .dataframe tbody tr th {\n",
       "        vertical-align: top;\n",
       "    }\n",
       "\n",
       "    .dataframe thead th {\n",
       "        text-align: right;\n",
       "    }\n",
       "</style>\n",
       "<table border=\"1\" class=\"dataframe\">\n",
       "  <thead>\n",
       "    <tr style=\"text-align: right;\">\n",
       "      <th></th>\n",
       "      <th>password</th>\n",
       "      <th>strength</th>\n",
       "    </tr>\n",
       "  </thead>\n",
       "  <tbody>\n",
       "    <tr>\n",
       "      <th>0</th>\n",
       "      <td>kzde5577</td>\n",
       "      <td>1</td>\n",
       "    </tr>\n",
       "    <tr>\n",
       "      <th>1</th>\n",
       "      <td>kino3434</td>\n",
       "      <td>1</td>\n",
       "    </tr>\n",
       "    <tr>\n",
       "      <th>2</th>\n",
       "      <td>visi7k1yr</td>\n",
       "      <td>1</td>\n",
       "    </tr>\n",
       "    <tr>\n",
       "      <th>3</th>\n",
       "      <td>megzy123</td>\n",
       "      <td>1</td>\n",
       "    </tr>\n",
       "    <tr>\n",
       "      <th>4</th>\n",
       "      <td>lamborghin1</td>\n",
       "      <td>1</td>\n",
       "    </tr>\n",
       "    <tr>\n",
       "      <th>...</th>\n",
       "      <td>...</td>\n",
       "      <td>...</td>\n",
       "    </tr>\n",
       "    <tr>\n",
       "      <th>669872</th>\n",
       "      <td>10redtux10</td>\n",
       "      <td>1</td>\n",
       "    </tr>\n",
       "    <tr>\n",
       "      <th>669873</th>\n",
       "      <td>infrared1</td>\n",
       "      <td>1</td>\n",
       "    </tr>\n",
       "    <tr>\n",
       "      <th>669874</th>\n",
       "      <td>184520socram</td>\n",
       "      <td>1</td>\n",
       "    </tr>\n",
       "    <tr>\n",
       "      <th>669875</th>\n",
       "      <td>marken22a</td>\n",
       "      <td>1</td>\n",
       "    </tr>\n",
       "    <tr>\n",
       "      <th>669876</th>\n",
       "      <td>fxx4pw4g</td>\n",
       "      <td>1</td>\n",
       "    </tr>\n",
       "  </tbody>\n",
       "</table>\n",
       "<p>669639 rows × 2 columns</p>\n",
       "</div>"
      ],
      "text/plain": [
       "            password strength\n",
       "0           kzde5577        1\n",
       "1           kino3434        1\n",
       "2          visi7k1yr        1\n",
       "3           megzy123        1\n",
       "4        lamborghin1        1\n",
       "...              ...      ...\n",
       "669872    10redtux10        1\n",
       "669873     infrared1        1\n",
       "669874  184520socram        1\n",
       "669875     marken22a        1\n",
       "669876      fxx4pw4g        1\n",
       "\n",
       "[669639 rows x 2 columns]"
      ]
     },
     "execution_count": 9,
     "metadata": {},
     "output_type": "execute_result"
    }
   ],
   "source": [
    "df.dropna()"
   ]
  },
  {
   "cell_type": "code",
   "execution_count": 10,
   "id": "0465ff86-2060-4e57-aabd-761bde291175",
   "metadata": {},
   "outputs": [
    {
     "data": {
      "text/html": [
       "<div>\n",
       "<style scoped>\n",
       "    .dataframe tbody tr th:only-of-type {\n",
       "        vertical-align: middle;\n",
       "    }\n",
       "\n",
       "    .dataframe tbody tr th {\n",
       "        vertical-align: top;\n",
       "    }\n",
       "\n",
       "    .dataframe thead th {\n",
       "        text-align: right;\n",
       "    }\n",
       "</style>\n",
       "<table border=\"1\" class=\"dataframe\">\n",
       "  <thead>\n",
       "    <tr style=\"text-align: right;\">\n",
       "      <th></th>\n",
       "      <th>password</th>\n",
       "      <th>strength</th>\n",
       "    </tr>\n",
       "  </thead>\n",
       "  <tbody>\n",
       "    <tr>\n",
       "      <th>count</th>\n",
       "      <td>669639</td>\n",
       "      <td>669640</td>\n",
       "    </tr>\n",
       "    <tr>\n",
       "      <th>unique</th>\n",
       "      <td>669556</td>\n",
       "      <td>3</td>\n",
       "    </tr>\n",
       "    <tr>\n",
       "      <th>top</th>\n",
       "      <td>0</td>\n",
       "      <td>1</td>\n",
       "    </tr>\n",
       "    <tr>\n",
       "      <th>freq</th>\n",
       "      <td>4</td>\n",
       "      <td>496801</td>\n",
       "    </tr>\n",
       "  </tbody>\n",
       "</table>\n",
       "</div>"
      ],
      "text/plain": [
       "       password strength\n",
       "count    669639   669640\n",
       "unique   669556        3\n",
       "top           0        1\n",
       "freq          4   496801"
      ]
     },
     "execution_count": 10,
     "metadata": {},
     "output_type": "execute_result"
    }
   ],
   "source": [
    "df.describe()"
   ]
  },
  {
   "cell_type": "code",
   "execution_count": 11,
   "id": "1c610995-1d77-4321-a2e0-fd696ff79fd2",
   "metadata": {},
   "outputs": [
    {
     "name": "stdout",
     "output_type": "stream",
     "text": [
      "<class 'pandas.core.frame.DataFrame'>\n",
      "Int64Index: 669640 entries, 0 to 669876\n",
      "Data columns (total 2 columns):\n",
      " #   Column    Non-Null Count   Dtype \n",
      "---  ------    --------------   ----- \n",
      " 0   password  669639 non-null  object\n",
      " 1   strength  669640 non-null  object\n",
      "dtypes: object(2)\n",
      "memory usage: 15.3+ MB\n"
     ]
    }
   ],
   "source": [
    "df.info()"
   ]
  },
  {
   "cell_type": "code",
   "execution_count": 12,
   "id": "1f4a8fb0-d042-481f-b8d2-324fd1085df1",
   "metadata": {},
   "outputs": [],
   "source": [
    "df['strength'] = df['strength'].astype(int)"
   ]
  },
  {
   "cell_type": "code",
   "execution_count": 13,
   "id": "148d4e61-f4e3-4a18-8bfa-9cba36995e0f",
   "metadata": {},
   "outputs": [
    {
     "data": {
      "text/plain": [
       "1    496801\n",
       "0     89702\n",
       "2     83137\n",
       "Name: strength, dtype: int64"
      ]
     },
     "execution_count": 13,
     "metadata": {},
     "output_type": "execute_result"
    }
   ],
   "source": [
    "labels=df['strength'].value_counts()\n",
    "labels"
   ]
  },
  {
   "cell_type": "code",
   "execution_count": 14,
   "id": "7d34bfc1-9f69-49d6-b15d-62c1436fe580",
   "metadata": {},
   "outputs": [
    {
     "data": {
      "text/plain": [
       "([<matplotlib.patches.Wedge at 0x20d755c3e80>,\n",
       "  <matplotlib.patches.Wedge at 0x20d755c3d90>,\n",
       "  <matplotlib.patches.Wedge at 0x20d7560cbb0>],\n",
       " [Text(-0.757756282435579, 0.7973740755940159, '1'),\n",
       "  Text(0.39766796641864954, -1.02560235397763, '0'),\n",
       "  Text(1.0173855324841206, -0.41824236788255076, '2')],\n",
       " [Text(-0.41332160860122485, 0.4349313139603722, '74.2%'),\n",
       "  Text(0.2169097998647179, -0.55941946580598, '13.4%'),\n",
       "  Text(0.5549375631731566, -0.22813220066320947, '12.4%')])"
      ]
     },
     "execution_count": 14,
     "metadata": {},
     "output_type": "execute_result"
    },
    {
     "data": {
      "image/png": "[encoded data removed]",
      "text/plain": [
       "<Figure size 640x480 with 1 Axes>"
      ]
     },
     "metadata": {},
     "output_type": "display_data"
    }
   ],
   "source": [
    "import matplotlib.pyplot as pt\n",
    "pt.pie(labels, labels=labels.index, autopct='%1.1f%%')"
   ]
  },
  {
   "cell_type": "code",
   "execution_count": 15,
   "id": "0a1fe44e-8cec-4a5e-9965-fb709880876f",
   "metadata": {},
   "outputs": [],
   "source": [
    "from sklearn.utils import resample\n",
    "\n",
    "strength_0 = df[df['strength'] == 0]\n",
    "strength_1 = df[df['strength'] == 1]\n",
    "strength_2 = df[df['strength'] == 2]\n",
    "\n",
    "min_size = min(len(strength_0), len(strength_1), len(strength_2))\n",
    "\n",
    "strength_1_undersampled = resample(strength_1, replace=False, n_samples=min_size, random_state=42)\n",
    "\n",
    "balanced_df = pd.concat([strength_0, strength_1_undersampled, strength_2])\n",
    "\n",
    "balanced_df = balanced_df.sample(frac=1, random_state=42).reset_index(drop=True)"
   ]
  },
  {
   "cell_type": "code",
   "execution_count": 16,
   "id": "6e493a2a-f798-4b84-851a-7f6f72cb63e2",
   "metadata": {},
   "outputs": [],
   "source": [
    "balanced_df=balanced_df.dropna()"
   ]
  },
  {
   "cell_type": "code",
   "execution_count": 17,
   "id": "11f3b007-8169-45d3-815b-3197fedd937a",
   "metadata": {},
   "outputs": [
    {
     "data": {
      "text/plain": [
       "0    89701\n",
       "1    83137\n",
       "2    83137\n",
       "Name: strength, dtype: int64"
      ]
     },
     "execution_count": 17,
     "metadata": {},
     "output_type": "execute_result"
    }
   ],
   "source": [
    "val=balanced_df['strength'].value_counts()\n",
    "val"
   ]
  },
  {
   "cell_type": "code",
   "execution_count": 18,
   "id": "7c1d1f32-3e1b-4ee8-a033-1b0a229fbd7c",
   "metadata": {},
   "outputs": [
    {
     "data": {
      "text/plain": [
       "([<matplotlib.patches.Wedge at 0x20d756d8b80>,\n",
       "  <matplotlib.patches.Wedge at 0x20d756ac220>,\n",
       "  <matplotlib.patches.Wedge at 0x20d756d9720>],\n",
       " [Text(0.49806890306561374, 0.9807789597044874, '0'),\n",
       "  Text(-1.0964324509567807, -0.0885205088604169, '1'),\n",
       "  Text(0.5753799642965612, -0.9375168780806499, '2')],\n",
       " [Text(0.27167394712669835, 0.5349703416569931, '35.0%'),\n",
       "  Text(-0.5980540641582439, -0.04828391392386376, '32.5%'),\n",
       "  Text(0.31384361688903334, -0.5113728425894453, '32.5%')])"
      ]
     },
     "execution_count": 18,
     "metadata": {},
     "output_type": "execute_result"
    },
    {
     "data": {
      "image/png": "[encoded data removed]",
      "text/plain": [
       "<Figure size 640x480 with 1 Axes>"
      ]
     },
     "metadata": {},
     "output_type": "display_data"
    }
   ],
   "source": [
    "pt.pie(val, labels=val.index, autopct='%1.1f%%')"
   ]
  },
  {
   "cell_type": "code",
   "execution_count": 19,
   "id": "c2515cc8-a1f5-4d7e-9b5f-0555e1218ebd",
   "metadata": {},
   "outputs": [],
   "source": [
    "balanced_df['strength']=balanced_df['strength'].replace(0,\"Weak\")\n",
    "balanced_df['strength']=balanced_df['strength'].replace(1,\"Medium\")\n",
    "balanced_df['strength']=balanced_df['strength'].replace(2,\"Strong\")"
   ]
  },
  {
   "cell_type": "code",
   "execution_count": 20,
   "id": "cc8a0a47-4fce-4779-9f68-bdc13dc54640",
   "metadata": {},
   "outputs": [
    {
     "name": "stderr",
     "output_type": "stream",
     "text": [
      "C:\\Users\\hp\\anaconda3\\lib\\site-packages\\sklearn\\feature_extraction\\text.py:528: UserWarning: The parameter 'token_pattern' will not be used since 'tokenizer' is not None'\n",
      "  warnings.warn(\n"
     ]
    }
   ],
   "source": [
    "def word(password):\n",
    "    character=[]\n",
    "    for i in password:\n",
    "        character.append(i)\n",
    "    return character\n",
    "  \n",
    "x = np.array(balanced_df[\"password\"])\n",
    "y = np.array(balanced_df[\"strength\"])\n",
    "\n",
    "tdif = TfidfVectorizer(tokenizer=word)\n",
    "x = tdif.fit_transform(x)\n",
    "xtrain, xtest, ytrain, ytest = train_test_split(x, y,test_size=0.3,random_state=42)"
   ]
  },
  {
   "cell_type": "code",
   "execution_count": 21,
   "id": "d2281231-31a9-4784-80ba-153ee5139f0b",
   "metadata": {},
   "outputs": [
    {
     "name": "stdout",
     "output_type": "stream",
     "text": [
      "0.9482765356217363\n"
     ]
    }
   ],
   "source": [
    "model = RandomForestClassifier()\n",
    "model.fit(xtrain, ytrain)\n",
    "r_s=model.score(xtest, ytest)\n",
    "print(r_s)"
   ]
  },
  {
   "cell_type": "code",
   "execution_count": 22,
   "id": "99615598-116f-4af6-ac22-20aa5f282980",
   "metadata": {},
   "outputs": [
    {
     "name": "stdout",
     "output_type": "stream",
     "text": [
      "0.8855234201033948\n"
     ]
    }
   ],
   "source": [
    "from sklearn.tree import DecisionTreeClassifier\n",
    "\n",
    "dt=DecisionTreeClassifier()\n",
    "dt.fit(xtrain, ytrain)\n",
    "dt_s=dt.score(xtest, ytest)\n",
    "print(dt_s)"
   ]
  },
  {
   "cell_type": "code",
   "execution_count": 24,
   "id": "f265ce9a-6d30-46da-9910-568664846730",
   "metadata": {},
   "outputs": [
    {
     "name": "stderr",
     "output_type": "stream",
     "text": [
      "C:\\Users\\hp\\anaconda3\\lib\\site-packages\\sklearn\\feature_extraction\\text.py:528: UserWarning: The parameter 'token_pattern' will not be used since 'tokenizer' is not None'\n",
      "  warnings.warn(\n"
     ]
    }
   ],
   "source": [
    "balanced_df['strength']=balanced_df['strength'].replace(\"Weak\",0)\n",
    "balanced_df['strength']=balanced_df['strength'].replace(\"Medium\",1)\n",
    "balanced_df['strength']=balanced_df['strength'].replace(\"Strong\",2)\n",
    "x = np.array(balanced_df[\"password\"])\n",
    "y = np.array(balanced_df[\"strength\"])\n",
    "\n",
    "tdif = TfidfVectorizer(tokenizer=word)\n",
    "x = tdif.fit_transform(x)\n",
    "xtrain, xtest, ytrain, ytest = train_test_split(x, y,test_size=0.3,random_state=42)"
   ]
  },
  {
   "cell_type": "code",
   "execution_count": 25,
   "id": "13693645-c280-4e97-8e27-20dc7cbdbe97",
   "metadata": {},
   "outputs": [
    {
     "name": "stdout",
     "output_type": "stream",
     "text": [
      "0.9815868633859857\n"
     ]
    }
   ],
   "source": [
    "from xgboost import XGBClassifier\n",
    "\n",
    "xg =XGBClassifier()\n",
    "xg.fit(xtrain, ytrain)\n",
    "xg_s=xg.score(xtest, ytest)\n",
    "print(xg_s)"
   ]
  },
  {
   "cell_type": "code",
   "execution_count": 26,
   "id": "05001bcd",
   "metadata": {},
   "outputs": [],
   "source": [
    "accu=pd.DataFrame({'Model':\n",
    "                     ['RandomForestClassifier','DecisionTreeClassifier','XGBClassifier'],\n",
    "                     'Test Accuracy':\n",
    "                     [r_s*100,dt_s*100,xg_s*100]\n",
    "                     })"
   ]
  },
  {
   "cell_type": "code",
   "execution_count": 27,
   "id": "5817db26",
   "metadata": {},
   "outputs": [
    {
     "data": {
      "text/html": [
       "<div>\n",
       "<style scoped>\n",
       "    .dataframe tbody tr th:only-of-type {\n",
       "        vertical-align: middle;\n",
       "    }\n",
       "\n",
       "    .dataframe tbody tr th {\n",
       "        vertical-align: top;\n",
       "    }\n",
       "\n",
       "    .dataframe thead th {\n",
       "        text-align: right;\n",
       "    }\n",
       "</style>\n",
       "<table border=\"1\" class=\"dataframe\">\n",
       "  <thead>\n",
       "    <tr style=\"text-align: right;\">\n",
       "      <th></th>\n",
       "      <th>Model</th>\n",
       "      <th>Test Accuracy</th>\n",
       "    </tr>\n",
       "  </thead>\n",
       "  <tbody>\n",
       "    <tr>\n",
       "      <th>0</th>\n",
       "      <td>RandomForestClassifier</td>\n",
       "      <td>94.827654</td>\n",
       "    </tr>\n",
       "    <tr>\n",
       "      <th>1</th>\n",
       "      <td>DecisionTreeClassifier</td>\n",
       "      <td>88.552342</td>\n",
       "    </tr>\n",
       "    <tr>\n",
       "      <th>2</th>\n",
       "      <td>XGBClassifier</td>\n",
       "      <td>98.158686</td>\n",
       "    </tr>\n",
       "  </tbody>\n",
       "</table>\n",
       "</div>"
      ],
      "text/plain": [
       "                    Model  Test Accuracy\n",
       "0  RandomForestClassifier      94.827654\n",
       "1  DecisionTreeClassifier      88.552342\n",
       "2           XGBClassifier      98.158686"
      ]
     },
     "execution_count": 27,
     "metadata": {},
     "output_type": "execute_result"
    }
   ],
   "source": [
    "accu"
   ]
  },
  {
   "cell_type": "code",
   "execution_count": 31,
   "id": "593f755c",
   "metadata": {},
   "outputs": [
    {
     "data": {
      "image/png": "[encoded data removed]",
      "text/plain": [
       "<Figure size 1000x600 with 1 Axes>"
      ]
     },
     "metadata": {},
     "output_type": "display_data"
    }
   ],
   "source": [
    "import matplotlib.pyplot as plt\n",
    "import seaborn as sns\n",
    "accuracy = [r_s*100,dt_s*100,xg_s*100]\n",
    "algorithms = ['RandomForestClassifier','DecisionTreeClassifier','XGBClassifier']\n",
    "\n",
    "\n",
    "plt.figure(figsize=(10, 6))\n",
    "sns.barplot(x=algorithms, y=accuracy, color='lightblue')  \n",
    "plt.xlabel('Algorithms')\n",
    "plt.ylabel('Accuracy Score (%)')\n",
    "plt.title('Comparison of Accuracy for Different Algorithms')\n",
    "plt.ylim(0, 150)\n",
    "plt.xticks(rotation=45)\n",
    "plt.grid(axis='y', linestyle='--', alpha=0.7)\n",
    "\n",
    "\n",
    "for i, v in enumerate(accuracy):\n",
    "    plt.text(i, v + 1, f'{v:.1f}%', ha='center', va='bottom', fontsize=10)\n",
    "\n",
    "plt.tight_layout()\n",
    "plt.show()"
   ]
  },
  {
   "cell_type": "code",
   "execution_count": null,
   "id": "3d0e6d9b",
   "metadata": {},
   "outputs": [],
   "source": []
  }
 ],
 "metadata": {
  "kernelspec": {
   "display_name": "Python 3 (ipykernel)",
   "language": "python",
   "name": "python3"
  },
  "language_info": {
   "codemirror_mode": {
    "name": "ipython",
    "version": 3
   },
   "file_extension": ".py",
   "mimetype": "text/x-python",
   "name": "python",
   "nbconvert_exporter": "python",
   "pygments_lexer": "ipython3",
   "version": "3.11.7"
  }
 },
 "nbformat": 4,
 "nbformat_minor": 5
}
